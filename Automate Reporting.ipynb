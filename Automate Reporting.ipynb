{
 "cells": [
  {
   "cell_type": "code",
   "execution_count": null,
   "metadata": {
    "collapsed": true
   },
   "outputs": [],
   "source": [
    "import pandas as pd\n",
    "import smtplib\n",
    "import matplotlib.pyplot as plt\n",
    "\n",
    "from email.mime.image import MIMEImage\n",
    "from email.mime.multipart import MIMEMultipart\n",
    "from email.mime.text import MIMEText\n",
    "from email.message import EmailMessage\n",
    "from email.mime.base import MIMEBase\n",
    "\n",
    "import codecs"
   ]
  },
  {
   "cell_type": "code",
   "execution_count": null,
   "metadata": {
    "collapsed": true
   },
   "outputs": [],
   "source": [
    "dict_days = dict(zip(['MON', 'TUE', 'WED', 'THU', 'FRI', 'SAT', 'SUN'], \n",
    "                     ['Monday', 'Tuesday', 'Wednesday', 'Thursday', 'Friday', 'Saturday', 'Sunday']\n",
    "                    ))\n",
    "WEEK = 'WEEK-1'"
   ]
  },
  {
   "cell_type": "markdown",
   "metadata": {},
   "source": [
    "#### Import Data"
   ]
  },
  {
   "cell_type": "code",
   "execution_count": null,
   "metadata": {
    "collapsed": true
   },
   "outputs": [],
   "source": [
    "# Volumes per day\n",
    "df_day = pd.read_csv('volumes per day.csv')\n",
    "df_plot = df_day[df_day['WEEK'] ==WEEK].copy()\n",
    "\n",
    "''' Calculate KPIs for Comments'''\n",
    "# Lines per orders\n",
    "df_plot['LINES/ORDER'] = df_plot['LINES']/df_plot['ORDERS']\n",
    "avg_ratio = '{:.2f} lines/order'.format(df_plot['LINES/ORDER'].mean())\n",
    "max_ratio = '{:.2f} lines/order'.format(df_plot['LINES/ORDER'].max())\n",
    "print(avg_ratio)\n",
    "print(max_ratio)\n",
    "\n",
    "# Maximum Day Lines\n",
    "busy_day = dict_days[df_plot.set_index('DAY')['LINES'].idxmax()]\n",
    "max_lines = '{:,} lines'.format(df_plot['LINES'].max())\n",
    "print(busy_day)\n",
    "print(max_lines)\n",
    "\n",
    "# Total Workload\n",
    "total_lines = '{:,} lines'.format(df_plot['LINES'].sum())\n",
    "print(total_lines)\n",
    "\n",
    "# Bar Plot: Orders/Lines\n",
    "fig, ax = plt.subplots(figsize=(14, 7))\n",
    "df_plot.plot.bar(figsize=(8, 6), edgecolor='black', x='DAY', y=['ORDERS', 'LINES'], \n",
    "                                           color=['tab:blue', 'tab:red'], legend= True, ax = ax)\n",
    "plt.xlabel('DAY', fontsize = 12)\n",
    "plt.title('Workload per day (Lines/day)', fontsize = 12)\n",
    "plt.show()"
   ]
  },
  {
   "cell_type": "markdown",
   "metadata": {},
   "source": [
    "#### Save the visual"
   ]
  },
  {
   "cell_type": "code",
   "execution_count": null,
   "metadata": {
    "collapsed": true
   },
   "outputs": [],
   "source": [
    "# save plot\n",
    "filename = 'visual' + \".png\"\n",
    "path_plot = filename\n",
    "fig.savefig(path_plot, dpi=fig.dpi)"
   ]
  },
  {
   "cell_type": "markdown",
   "metadata": {},
   "source": [
    "### Create the HTML Report\n",
    "#### Parameters "
   ]
  },
  {
   "cell_type": "code",
   "execution_count": null,
   "metadata": {
    "collapsed": true
   },
   "outputs": [],
   "source": [
    "# Files Name\n",
    "file_img = 'visual.png'\n",
    "file_header =  \"header_img.png\"\n",
    "\n",
    "# Settings\n",
    "from_mail = 'youremail@gmail.com'\n",
    "from_password = 'yourpassword'\n",
    "to_mail = \"yourmanager@gmail.com\"\n",
    "\n",
    "# SMTP Server (example of gmail)\n",
    "smtp_server = 'smtp.google.com'\n",
    "smtp_port = 465"
   ]
  },
  {
   "cell_type": "markdown",
   "metadata": {
    "collapsed": true
   },
   "source": [
    "#### Open the images for the report"
   ]
  },
  {
   "cell_type": "code",
   "execution_count": null,
   "metadata": {
    "collapsed": true
   },
   "outputs": [],
   "source": [
    "# Message Object\n",
    "msg = MIMEMultipart()\n",
    "msg['Subject'] = 'Workload Report for {}'.format(WEEK)\n",
    "msg['From'] = from_mail\n",
    "msg['To'] = ', '.join([from_mail, to_mail])\n",
    "msg.preamble = 'Workload Report for {}'.format(WEEK)\n",
    "\n",
    "# Open the visual\n",
    "with open(file_img, 'rb') as fp:\n",
    "    img = MIMEImage(fp.read())\n",
    "    img.add_header('Content-Disposition', 'attachment', filename=file_img)\n",
    "    img.add_header('X-Attachment-Id', '0')\n",
    "    img.add_header('Content-ID', '<0>')\n",
    "    fp.close()\n",
    "    msg.attach(img)\n",
    "\n",
    "# Open the header\n",
    "with open(file_header, 'rb') as fp:\n",
    "    img = MIMEImage(fp.read())\n",
    "    img.add_header('Content-Disposition', 'attachment', filename=file_header)\n",
    "    img.add_header('X-Attachment-Id', '1')\n",
    "    img.add_header('Content-ID', '<1>')\n",
    "    fp.close()\n",
    "    msg.attach(img)\n",
    "\n",
    "# Attach the HTML email\n",
    "f = codecs.open(\"report.html\", 'r')\n",
    "string = f.read()\n",
    "\n",
    "# Add the images in the HTML report\n",
    "html_string = string.replace(\"IMG_HTML\", \"cid:0\")\n",
    "html_string = html_string.replace(\"HEADER_HTML\", \"cid:1\")\n",
    "\n",
    "# Add the insights\n",
    "html_string = html_string.replace(\"WEEK\", WEEK)\n",
    "html_string = html_string.replace(\"total_lines\", total_lines)\n",
    "html_string = html_string.replace(\"busy_day\", busy_day)\n",
    "html_string = html_string.replace(\"max_lines\", max_lines)\n",
    "html_string = html_string.replace(\"avg_ratio\", avg_ratio)\n",
    "html_string = html_string.replace(\"max_ratio\", max_ratio)\n",
    "\n",
    "# Attach the HTML page\n",
    "msg.attach(MIMEText(html_string, 'html', 'utf-8'))\n",
    "\n",
    "# Send the email via our own SMTP server\n",
    "server = smtplib.SMTP_SSL(smtp_server, smtp_port)\n",
    "server.ehlo()\n",
    "server.login(from_mail, from_password)\n",
    "\n",
    "server.sendmail(from_mail, [from_mail, to_mail], msg.as_string())\n",
    "server.quit()"
   ]
  }
 ],
 "metadata": {
  "kernelspec": {
   "display_name": "Python 3",
   "language": "python",
   "name": "python3"
  },
  "language_info": {
   "codemirror_mode": {
    "name": "ipython",
    "version": 3
   },
   "file_extension": ".py",
   "mimetype": "text/x-python",
   "name": "python",
   "nbconvert_exporter": "python",
   "pygments_lexer": "ipython3",
   "version": "3.6.1"
  }
 },
 "nbformat": 4,
 "nbformat_minor": 2
}
